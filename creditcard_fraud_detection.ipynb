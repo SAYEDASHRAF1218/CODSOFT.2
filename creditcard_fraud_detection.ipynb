{
  "nbformat": 4,
  "nbformat_minor": 0,
  "metadata": {
    "colab": {
      "provenance": [],
      "authorship_tag": "ABX9TyPL/oVmUfwWouYNcCX6F6dH",
      "include_colab_link": true
    },
    "kernelspec": {
      "name": "python3",
      "display_name": "Python 3"
    },
    "language_info": {
      "name": "python"
    }
  },
  "cells": [
    {
      "cell_type": "markdown",
      "metadata": {
        "id": "view-in-github",
        "colab_type": "text"
      },
      "source": [
        "<a href=\"https://colab.research.google.com/github/SAYEDASHRAF1218/CODSOFT.2/blob/main/creditcard_fraud_detection.ipynb\" target=\"_parent\"><img src=\"https://colab.research.google.com/assets/colab-badge.svg\" alt=\"Open In Colab\"/></a>"
      ]
    },
    {
      "cell_type": "code",
      "execution_count": null,
      "metadata": {
        "colab": {
          "base_uri": "https://localhost:8080/"
        },
        "id": "wLoCBxDbQVgd",
        "outputId": "61f39b1a-ed29-4677-bce7-65e7cc803f77"
      },
      "outputs": [
        {
          "output_type": "stream",
          "name": "stdout",
          "text": [
            "Training shape: (129668, 23)\n",
            "Test shape: (55572, 23)\n",
            "\n",
            "===== Logistic Regression =====\n",
            "Confusion Matrix:\n",
            "[[52693  2663]\n",
            " [   44   172]] \n",
            "\n",
            "Classification Report:\n",
            "              precision    recall  f1-score   support\n",
            "\n",
            "           0       1.00      0.95      0.97     55356\n",
            "           1       0.06      0.80      0.11       216\n",
            "\n",
            "    accuracy                           0.95     55572\n",
            "   macro avg       0.53      0.87      0.54     55572\n",
            "weighted avg       1.00      0.95      0.97     55572\n",
            "\n",
            "ROC-AUC Score: 0.874094748336023\n",
            "\n",
            "===== Decision Tree =====\n",
            "Confusion Matrix:\n",
            "[[53591  1765]\n",
            " [  135    81]] \n",
            "\n",
            "Classification Report:\n",
            "              precision    recall  f1-score   support\n",
            "\n",
            "           0       1.00      0.97      0.98     55356\n",
            "           1       0.04      0.38      0.08       216\n",
            "\n",
            "    accuracy                           0.97     55572\n",
            "   macro avg       0.52      0.67      0.53     55572\n",
            "weighted avg       0.99      0.97      0.98     55572\n",
            "\n",
            "ROC-AUC Score: 0.6715577353855047\n",
            "\n",
            "===== Random Forest =====\n",
            "Confusion Matrix:\n",
            "[[54906   450]\n",
            " [  125    91]] \n",
            "\n",
            "Classification Report:\n",
            "              precision    recall  f1-score   support\n",
            "\n",
            "           0       1.00      0.99      0.99     55356\n",
            "           1       0.17      0.42      0.24       216\n",
            "\n",
            "    accuracy                           0.99     55572\n",
            "   macro avg       0.58      0.71      0.62     55572\n",
            "weighted avg       0.99      0.99      0.99     55572\n",
            "\n",
            "ROC-AUC Score: 0.7065835481047924\n"
          ]
        }
      ],
      "source": [
        "# 1. Import libraries\n",
        "import pandas as pd\n",
        "import numpy as np\n",
        "from sklearn.preprocessing import StandardScaler\n",
        "from sklearn.linear_model import LogisticRegression\n",
        "from sklearn.tree import DecisionTreeClassifier\n",
        "from sklearn.ensemble import RandomForestClassifier\n",
        "from sklearn.metrics import classification_report, confusion_matrix, roc_auc_score\n",
        "from imblearn.over_sampling import SMOTE\n",
        "\n",
        "# 2. Load datasets\n",
        "train_df = pd.read_csv(\"fraudTrain.csv\").sample(frac=0.1,random_state=42)\n",
        "test_df = pd.read_csv(\"fraudTest.csv\").sample(frac=0.1,random_state=42)\n",
        "\n",
        "print(\"Training shape:\", train_df.shape)\n",
        "print(\"Test shape:\", test_df.shape)\n",
        "\n",
        "# 3. Split features and target (target is is_fraud)\n",
        "X_train = train_df.drop(\"is_fraud\", axis=1)\n",
        "y_train = train_df[\"is_fraud\"]\n",
        "X_test = test_df.drop(\"is_fraud\", axis=1)\n",
        "y_test = test_df[\"is_fraud\"]\n",
        "\n",
        "# Remove non-numerical columns\n",
        "non_numerical_cols = ['Unnamed: 0', 'trans_date_trans_time', 'cc_num', 'merchant', 'category', 'first', 'last', 'street', 'city', 'state', 'zip', 'job', 'dob', 'trans_num', 'gender']\n",
        "X_train = X_train.drop(non_numerical_cols, axis=1)\n",
        "X_test = X_test.drop(non_numerical_cols, axis=1)\n",
        "\n",
        "\n",
        "# 4. Handle class imbalance on the training set\n",
        "sm = SMOTE(random_state=42)\n",
        "X_train_res, y_train_res = sm.fit_resample(X_train, y_train)\n",
        "\n",
        "# 5. Scale features\n",
        "scaler = StandardScaler()\n",
        "X_train_res = scaler.fit_transform(X_train_res)\n",
        "X_test = scaler.transform(X_test)\n",
        "\n",
        "# 6. Define models\n",
        "models = {\n",
        "    \"Logistic Regression\": LogisticRegression(max_iter=1000),\n",
        "    \"Decision Tree\": DecisionTreeClassifier(random_state=42),\n",
        "    \"Random Forest\": RandomForestClassifier(n_estimators=100, random_state=42)\n",
        "}\n",
        "\n",
        "# 7. Train and evaluate\n",
        "for name, model in models.items():\n",
        "    print(f\"\\n===== {name} =====\")\n",
        "    model.fit(X_train_res, y_train_res)\n",
        "    y_pred = model.predict(X_test)\n",
        "\n",
        "    print(\"Confusion Matrix:\")\n",
        "    print(confusion_matrix(y_test, y_pred), \"\\n\")\n",
        "    print(\"Classification Report:\")\n",
        "    print(classification_report(y_test, y_pred))\n",
        "    print(\"ROC-AUC Score:\", roc_auc_score(y_test, y_pred))"
      ]
    }
  ]
}